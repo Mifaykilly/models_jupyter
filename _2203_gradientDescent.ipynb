{
 "cells": [
  {
   "cell_type": "code",
   "execution_count": 1,
   "id": "257b8c88",
   "metadata": {},
   "outputs": [],
   "source": [
    "import random as rd\n",
    "import pandas as pd \n",
    "import numpy as np"
   ]
  },
  {
   "cell_type": "code",
   "execution_count": 2,
   "id": "a642d2f2",
   "metadata": {},
   "outputs": [],
   "source": [
    "data = {'year': [2018, 2015, 2020, 2012],\n",
    "        'km': [50000, 80000, 20000, 120000],\n",
    "        'engine_size': [1.6, 2.0, 1.8, 1.4],\n",
    "        'brand': ['Toyota', 'Honda', 'Volkswagen', 'Ford'],\n",
    "        'price': [120000, 90000, 150000, 60000]}"
   ]
  },
  {
   "cell_type": "code",
   "execution_count": 3,
   "id": "46f15179",
   "metadata": {},
   "outputs": [
    {
     "data": {
      "text/html": [
       "<div>\n",
       "<style scoped>\n",
       "    .dataframe tbody tr th:only-of-type {\n",
       "        vertical-align: middle;\n",
       "    }\n",
       "\n",
       "    .dataframe tbody tr th {\n",
       "        vertical-align: top;\n",
       "    }\n",
       "\n",
       "    .dataframe thead th {\n",
       "        text-align: right;\n",
       "    }\n",
       "</style>\n",
       "<table border=\"1\" class=\"dataframe\">\n",
       "  <thead>\n",
       "    <tr style=\"text-align: right;\">\n",
       "      <th></th>\n",
       "      <th>year</th>\n",
       "      <th>km</th>\n",
       "      <th>engine_size</th>\n",
       "      <th>brand</th>\n",
       "      <th>price</th>\n",
       "    </tr>\n",
       "  </thead>\n",
       "  <tbody>\n",
       "    <tr>\n",
       "      <th>0</th>\n",
       "      <td>2018</td>\n",
       "      <td>50000</td>\n",
       "      <td>1.6</td>\n",
       "      <td>Toyota</td>\n",
       "      <td>120000</td>\n",
       "    </tr>\n",
       "    <tr>\n",
       "      <th>1</th>\n",
       "      <td>2015</td>\n",
       "      <td>80000</td>\n",
       "      <td>2.0</td>\n",
       "      <td>Honda</td>\n",
       "      <td>90000</td>\n",
       "    </tr>\n",
       "    <tr>\n",
       "      <th>2</th>\n",
       "      <td>2020</td>\n",
       "      <td>20000</td>\n",
       "      <td>1.8</td>\n",
       "      <td>Volkswagen</td>\n",
       "      <td>150000</td>\n",
       "    </tr>\n",
       "    <tr>\n",
       "      <th>3</th>\n",
       "      <td>2012</td>\n",
       "      <td>120000</td>\n",
       "      <td>1.4</td>\n",
       "      <td>Ford</td>\n",
       "      <td>60000</td>\n",
       "    </tr>\n",
       "  </tbody>\n",
       "</table>\n",
       "</div>"
      ],
      "text/plain": [
       "   year      km  engine_size       brand   price\n",
       "0  2018   50000          1.6      Toyota  120000\n",
       "1  2015   80000          2.0       Honda   90000\n",
       "2  2020   20000          1.8  Volkswagen  150000\n",
       "3  2012  120000          1.4        Ford   60000"
      ]
     },
     "execution_count": 3,
     "metadata": {},
     "output_type": "execute_result"
    }
   ],
   "source": [
    "dt=pd.DataFrame(data)\n",
    "dt.head(15)"
   ]
  },
  {
   "cell_type": "code",
   "execution_count": 4,
   "id": "d48c375d",
   "metadata": {},
   "outputs": [],
   "source": [
    "from sklearn.preprocessing import LabelEncoder"
   ]
  },
  {
   "cell_type": "code",
   "execution_count": 5,
   "id": "915a8e4b",
   "metadata": {},
   "outputs": [],
   "source": [
    "label_encoder=LabelEncoder()\n",
    "dt[\"brand_encoded\"]=label_encoder.fit_transform(dt[\"brand\"])"
   ]
  },
  {
   "cell_type": "code",
   "execution_count": 6,
   "id": "a15640bf",
   "metadata": {},
   "outputs": [
    {
     "data": {
      "text/plain": [
       "<bound method NDFrame.head of    year      km  engine_size  brand_encoded\n",
       "0  2018   50000          1.6              2\n",
       "1  2015   80000          2.0              1\n",
       "2  2020   20000          1.8              3\n",
       "3  2012  120000          1.4              0>"
      ]
     },
     "execution_count": 6,
     "metadata": {},
     "output_type": "execute_result"
    }
   ],
   "source": [
    "X_train=dt[[\"year\",\"km\",\"engine_size\",\"brand_encoded\"]]\n",
    "X_train.head"
   ]
  },
  {
   "cell_type": "code",
   "execution_count": 7,
   "id": "99fb33fb",
   "metadata": {},
   "outputs": [],
   "source": [
    "y_train=dt[\"price\"]"
   ]
  },
  {
   "cell_type": "code",
   "execution_count": 8,
   "id": "8c599424",
   "metadata": {},
   "outputs": [
    {
     "data": {
      "text/plain": [
       "0    6.126\n",
       "1    8.321\n",
       "2    4.543\n",
       "3    4.455\n",
       "dtype: float64"
      ]
     },
     "execution_count": 8,
     "metadata": {},
     "output_type": "execute_result"
    }
   ],
   "source": [
    "w_init = pd.Series([6.126,8.321,4.543,4.455])\n",
    "w_init"
   ]
  },
  {
   "cell_type": "code",
   "execution_count": 9,
   "id": "bb9612df",
   "metadata": {},
   "outputs": [],
   "source": [
    "b_init=0.954"
   ]
  },
  {
   "cell_type": "code",
   "execution_count": 10,
   "id": "e3f1a4f9",
   "metadata": {},
   "outputs": [],
   "source": [
    "def predict(x,w,b):\n",
    "    result=np.dot(x,w)+b\n",
    "    return result"
   ]
  },
  {
   "cell_type": "code",
   "execution_count": 11,
   "id": "341cfec3",
   "metadata": {},
   "outputs": [
    {
     "data": {
      "text/plain": [
       "428429.4008"
      ]
     },
     "execution_count": 11,
     "metadata": {},
     "output_type": "execute_result"
    }
   ],
   "source": [
    "predict(X_train.iloc[0],w_init,b_init)"
   ]
  },
  {
   "cell_type": "code",
   "execution_count": 12,
   "id": "5b8a86ea",
   "metadata": {},
   "outputs": [
    {
     "data": {
      "text/plain": [
       "678038.385"
      ]
     },
     "execution_count": 12,
     "metadata": {},
     "output_type": "execute_result"
    }
   ],
   "source": [
    "predict(X_train.iloc[1],w_init,b_init)"
   ]
  },
  {
   "cell_type": "code",
   "execution_count": 13,
   "id": "dfaa7606",
   "metadata": {},
   "outputs": [
    {
     "data": {
      "text/plain": [
       "178817.0164"
      ]
     },
     "execution_count": 13,
     "metadata": {},
     "output_type": "execute_result"
    }
   ],
   "source": [
    "predict(X_train.iloc[2],w_init,b_init)"
   ]
  },
  {
   "cell_type": "code",
   "execution_count": 14,
   "id": "eacc5cab",
   "metadata": {},
   "outputs": [
    {
     "data": {
      "text/plain": [
       "1010852.8262"
      ]
     },
     "execution_count": 14,
     "metadata": {},
     "output_type": "execute_result"
    }
   ],
   "source": [
    "predict(X_train.iloc[3],w_init,b_init)"
   ]
  },
  {
   "cell_type": "code",
   "execution_count": 15,
   "id": "39aabc64",
   "metadata": {},
   "outputs": [
    {
     "name": "stdout",
     "output_type": "stream",
     "text": [
      "428429.0\n",
      "678038.0\n",
      "178817.0\n",
      "1010852.0\n"
     ]
    }
   ],
   "source": [
    "y_pred=np.zeros(4)\n",
    "for a in range (X_train.shape[0]):\n",
    "    y_pred[a]= int(predict(X_train.iloc[a],w_init,b_init))\n",
    "    print(y_pred[a])"
   ]
  },
  {
   "cell_type": "code",
   "execution_count": 16,
   "id": "f0112b86",
   "metadata": {},
   "outputs": [
    {
     "data": {
      "text/html": [
       "<div>\n",
       "<style scoped>\n",
       "    .dataframe tbody tr th:only-of-type {\n",
       "        vertical-align: middle;\n",
       "    }\n",
       "\n",
       "    .dataframe tbody tr th {\n",
       "        vertical-align: top;\n",
       "    }\n",
       "\n",
       "    .dataframe thead th {\n",
       "        text-align: right;\n",
       "    }\n",
       "</style>\n",
       "<table border=\"1\" class=\"dataframe\">\n",
       "  <thead>\n",
       "    <tr style=\"text-align: right;\">\n",
       "      <th></th>\n",
       "      <th>gerçek değer</th>\n",
       "      <th>tahmin</th>\n",
       "    </tr>\n",
       "  </thead>\n",
       "  <tbody>\n",
       "    <tr>\n",
       "      <th>0</th>\n",
       "      <td>120000</td>\n",
       "      <td>428429.0</td>\n",
       "    </tr>\n",
       "    <tr>\n",
       "      <th>1</th>\n",
       "      <td>90000</td>\n",
       "      <td>678038.0</td>\n",
       "    </tr>\n",
       "    <tr>\n",
       "      <th>2</th>\n",
       "      <td>150000</td>\n",
       "      <td>178817.0</td>\n",
       "    </tr>\n",
       "    <tr>\n",
       "      <th>3</th>\n",
       "      <td>60000</td>\n",
       "      <td>1010852.0</td>\n",
       "    </tr>\n",
       "  </tbody>\n",
       "</table>\n",
       "</div>"
      ],
      "text/plain": [
       "   gerçek değer     tahmin\n",
       "0        120000   428429.0\n",
       "1         90000   678038.0\n",
       "2        150000   178817.0\n",
       "3         60000  1010852.0"
      ]
     },
     "execution_count": 16,
     "metadata": {},
     "output_type": "execute_result"
    }
   ],
   "source": [
    "df= pd.DataFrame({\"gerçek değer\":y_train, \"tahmin\":y_pred})\n",
    "df"
   ]
  },
  {
   "cell_type": "code",
   "execution_count": 17,
   "id": "e6e56cd8",
   "metadata": {},
   "outputs": [],
   "source": [
    "def compute_cost(X_train,y_train,w,b):\n",
    "    result = 0 \n",
    "    for a in range(0,X_train.shape[0]):\n",
    "        result += ((y_train[a]-predict(X_train.iloc[a],w,b))**2)\n",
    "    result /=(2*X_train.shape[0])\n",
    "    return result"
   ]
  },
  {
   "cell_type": "code",
   "execution_count": 18,
   "id": "908c2a41",
   "metadata": {},
   "outputs": [
    {
     "data": {
      "text/plain": [
       "168233669379.7476"
      ]
     },
     "execution_count": 18,
     "metadata": {},
     "output_type": "execute_result"
    }
   ],
   "source": [
    " compute_cost(X_train,y_train,w_init,b_init)"
   ]
  },
  {
   "cell_type": "markdown",
   "id": "9fae73e3",
   "metadata": {},
   "source": [
    "# GRADİENT HESAP"
   ]
  },
  {
   "cell_type": "code",
   "execution_count": 19,
   "id": "fbb571fb",
   "metadata": {},
   "outputs": [],
   "source": [
    "def compute_gradient(X_train,y_train,w,b):\n",
    "    learning_rate=0.0001\n",
    "    iterasyonlar=50\n",
    "    r1=0\n",
    "    m=X_train.shape[0]\n",
    "    for a in range(iterasyonlar):\n",
    "        for i in range(m):\n",
    "            r1 += (y_train[i]- y_pred[i]) * X_train.iloc[i]\n",
    "        r1 /= m\n",
    "        if(compute_cost(X_train,y_train,w,b)<=2):\n",
    "            break\n",
    "    w -= learning_rate*r1"
   ]
  },
  {
   "cell_type": "code",
   "execution_count": 20,
   "id": "4c25a5a0",
   "metadata": {},
   "outputs": [],
   "source": [
    "compute_gradient(X_train,y_train,w_init,b_init)"
   ]
  },
  {
   "cell_type": "code",
   "execution_count": 21,
   "id": "1f523792",
   "metadata": {},
   "outputs": [],
   "source": [
    "compute_cost(X_train,y_train,w_init,b_init)"
   ]
  }
 ],
 "metadata": {
  "kernelspec": {
   "display_name": "Python 3 (ipykernel)",
   "language": "python",
   "name": "python3"
  },
  "language_info": {
   "codemirror_mode": {
    "name": "ipython",
    "version": 3
   },
   "file_extension": ".py",
   "mimetype": "text/x-python",
   "name": "python",
   "nbconvert_exporter": "python",
   "pygments_lexer": "ipython3",
   "version": "3.11.5"
  }
 },
 "nbformat": 4,
 "nbformat_minor": 5
}
